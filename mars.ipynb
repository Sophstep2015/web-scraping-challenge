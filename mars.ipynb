{
 "cells": [
  {
   "cell_type": "code",
   "execution_count": 1,
   "id": "0e0a3198",
   "metadata": {},
   "outputs": [],
   "source": [
    "from splinter import Browser\n",
    "from bs4 import BeautifulSoup as bs\n",
    "from selenium import webdriver\n",
    "import time\n",
    "from webdriver_manager.chrome import ChromeDriverManager\n",
    "import pandas as pd\n",
    "import requests\n",
    "import os"
   ]
  },
  {
   "cell_type": "code",
   "execution_count": 2,
   "id": "6c4cd311",
   "metadata": {},
   "outputs": [
    {
     "name": "stderr",
     "output_type": "stream",
     "text": [
      "\n",
      "\n",
      "====== WebDriver manager ======\n",
      "Current google-chrome version is 96.0.4664\n",
      "Get LATEST chromedriver version for 96.0.4664 google-chrome\n",
      "Driver [C:\\Users\\Stephen\\.wdm\\drivers\\chromedriver\\win32\\96.0.4664.45\\chromedriver.exe] found in cache\n"
     ]
    }
   ],
   "source": [
    "# Set up Splinter\n",
    "executable_path = executable_path = {'executable_path': ChromeDriverManager().install()}\n",
    "browser = Browser('chrome', **executable_path, headless=False)"
   ]
  },
  {
   "cell_type": "code",
   "execution_count": 3,
   "id": "80f0cba8",
   "metadata": {},
   "outputs": [],
   "source": [
    "url1 = 'https://redplanetscience.com/'\n",
    "browser.visit(url1)"
   ]
  },
  {
   "cell_type": "code",
   "execution_count": 4,
   "id": "2ae12c0f",
   "metadata": {},
   "outputs": [],
   "source": [
    "html=browser.html\n",
    "soup = bs(html, 'html.parser')"
   ]
  },
  {
   "cell_type": "code",
   "execution_count": 5,
   "id": "bdf276c6",
   "metadata": {},
   "outputs": [
    {
     "name": "stdout",
     "output_type": "stream",
     "text": [
      "My Culture, My Voice\n",
      "In honor of Hispanic Heritage Month, Christina Hernandez, an instrument engineer on the Mars 2020 mission, talks about her childhood and journey to NASA.\n"
     ]
    }
   ],
   "source": [
    "news1head = soup.find_all('div', class_='content_title')[0].text\n",
    "new1con = soup.find_all('div', class_='article_teaser_body')[0].text\n",
    "print(news1head)\n",
    "print(new1con)"
   ]
  },
  {
   "cell_type": "code",
   "execution_count": 6,
   "id": "372fd2f9",
   "metadata": {},
   "outputs": [
    {
     "name": "stdout",
     "output_type": "stream",
     "text": [
      "https://spaceimages-mars.com/image/featured/mars2.jpg\n"
     ]
    }
   ],
   "source": [
    "url2 = 'https://spaceimages-mars.com/'\n",
    "browser.visit(url2)\n",
    "html = browser.html\n",
    "soup = bs(html, 'html.parser')\n",
    "featured_image_url = soup.find(\"img\", {\"class\": \"headerimage\"})['src']\n",
    "print(url2 + featured_image_url)"
   ]
  },
  {
   "cell_type": "code",
   "execution_count": 7,
   "id": "b5f14f65",
   "metadata": {},
   "outputs": [
    {
     "name": "stdout",
     "output_type": "stream",
     "text": [
      "<table border=\"1\" class=\"dataframe\">\n",
      "  <thead>\n",
      "    <tr style=\"text-align: right;\">\n",
      "      <th>0</th>\n",
      "      <th>1</th>\n",
      "    </tr>\n",
      "  </thead>\n",
      "  <tbody>\n",
      "    <tr>\n",
      "      <td>Equatorial Diameter:</td>\n",
      "      <td>6,792 km</td>\n",
      "    </tr>\n",
      "    <tr>\n",
      "      <td>Polar Diameter:</td>\n",
      "      <td>6,752 km</td>\n",
      "    </tr>\n",
      "    <tr>\n",
      "      <td>Mass:</td>\n",
      "      <td>6.39 × 10^23 kg (0.11 Earths)</td>\n",
      "    </tr>\n",
      "    <tr>\n",
      "      <td>Moons:</td>\n",
      "      <td>2 ( Phobos &amp; Deimos )</td>\n",
      "    </tr>\n",
      "    <tr>\n",
      "      <td>Orbit Distance:</td>\n",
      "      <td>227,943,824 km (1.38 AU)</td>\n",
      "    </tr>\n",
      "    <tr>\n",
      "      <td>Orbit Period:</td>\n",
      "      <td>687 days (1.9 years)</td>\n",
      "    </tr>\n",
      "    <tr>\n",
      "      <td>Surface Temperature:</td>\n",
      "      <td>-87 to -5 °C</td>\n",
      "    </tr>\n",
      "    <tr>\n",
      "      <td>First Record:</td>\n",
      "      <td>2nd millennium BC</td>\n",
      "    </tr>\n",
      "    <tr>\n",
      "      <td>Recorded By:</td>\n",
      "      <td>Egyptian astronomers</td>\n",
      "    </tr>\n",
      "  </tbody>\n",
      "</table>\n"
     ]
    }
   ],
   "source": [
    "url3 = 'https://galaxyfacts-mars.com/'\n",
    "browser.visit(url3)\n",
    "mars_table = pd.read_html(url3)\n",
    "table1= mars_table[1]\n",
    "table2 = table1.to_html(index=False)\n",
    "table1.to_html(\"Table.html\", index=False)\n",
    "print(table2)\n"
   ]
  },
  {
   "cell_type": "code",
   "execution_count": 8,
   "id": "0dc4a080",
   "metadata": {},
   "outputs": [],
   "source": [
    "url4 = 'https://marshemispheres.com/'\n",
    "browser.visit(url4)\n",
    "html = browser.html\n",
    "soup = bs(html, 'html.parser')\n",
    "marshemispheres = soup.find_all(\"div\", {\"class\":\"item\"})"
   ]
  },
  {
   "cell_type": "code",
   "execution_count": 9,
   "id": "16525570",
   "metadata": {},
   "outputs": [],
   "source": [
    "hemisphere = []\n",
    "for x in marshemispheres:\n",
    "    ref = url4 + x.find(\"a\", {\"class\": \"itemLink\"})[\"href\"]\n",
    "    browser.visit(ref)\n",
    "    time.sleep(1)\n",
    "    \n",
    "    html = browser.html\n",
    "    soup = bs(html, \"html.parser\")\n",
    "    \n",
    "    img_url = url4 + soup.find(\"img\", {\"class\", \"wide-image\"})[\"src\"]\n",
    "    title = soup.find(\"h2\", {\"class\", \"title\"}).text\n",
    "    \n",
    "    images_title = {\"title\":title,\n",
    "                    \"img_url\":img_url}\n",
    "    \n",
    "    hemisphere.append(images_title)"
   ]
  },
  {
   "cell_type": "code",
   "execution_count": 10,
   "id": "d471c814",
   "metadata": {},
   "outputs": [
    {
     "data": {
      "text/plain": [
       "[{'title': 'Cerberus Hemisphere Enhanced',\n",
       "  'img_url': 'https://marshemispheres.com/images/f5e372a36edfa389625da6d0cc25d905_cerberus_enhanced.tif_full.jpg'},\n",
       " {'title': 'Schiaparelli Hemisphere Enhanced',\n",
       "  'img_url': 'https://marshemispheres.com/images/3778f7b43bbbc89d6e3cfabb3613ba93_schiaparelli_enhanced.tif_full.jpg'},\n",
       " {'title': 'Syrtis Major Hemisphere Enhanced',\n",
       "  'img_url': 'https://marshemispheres.com/images/555e6403a6ddd7ba16ddb0e471cadcf7_syrtis_major_enhanced.tif_full.jpg'},\n",
       " {'title': 'Valles Marineris Hemisphere Enhanced',\n",
       "  'img_url': 'https://marshemispheres.com/images/b3c7c6c9138f57b4756be9b9c43e3a48_valles_marineris_enhanced.tif_full.jpg'}]"
      ]
     },
     "execution_count": 10,
     "metadata": {},
     "output_type": "execute_result"
    }
   ],
   "source": [
    "hemisphere"
   ]
  },
  {
   "cell_type": "code",
   "execution_count": 11,
   "id": "05515ee2",
   "metadata": {},
   "outputs": [],
   "source": [
    "browser.quit()"
   ]
  }
 ],
 "metadata": {
  "kernelspec": {
   "display_name": "Python 3",
   "language": "python",
   "name": "python3"
  },
  "language_info": {
   "codemirror_mode": {
    "name": "ipython",
    "version": 3
   },
   "file_extension": ".py",
   "mimetype": "text/x-python",
   "name": "python",
   "nbconvert_exporter": "python",
   "pygments_lexer": "ipython3",
   "version": "3.8.8"
  }
 },
 "nbformat": 4,
 "nbformat_minor": 5
}
